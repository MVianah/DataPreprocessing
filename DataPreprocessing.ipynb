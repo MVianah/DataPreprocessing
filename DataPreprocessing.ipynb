{
 "cells": [
  {
   "cell_type": "code",
   "execution_count": 1,
   "metadata": {},
   "outputs": [],
   "source": [
    "#Importando Libs\n",
    "import pandas as pd\n",
    "import numpy as np"
   ]
  },
  {
   "cell_type": "code",
   "execution_count": 27,
   "metadata": {},
   "outputs": [],
   "source": [
    "#Criando dados simulados para análise\n",
    "Data = {\n",
    "    'id_usuario': np.random.randint(0, 181, size=200),\n",
    "    'municipio': np.random.choice(['A', 'B', 'C'], size=200),\n",
    "    'idade': np.random.choice([20, 21, 22, 23, 24, 25, 26, 25, 28, 29, 30, 31, 32, 33, 34, 35, 155, np.nan], size=200),\n",
    "    'escolaridade': np.random.choice(['fundamental', 'médio', 'superior', 'pós-graduação', np.nan], size=200),\n",
    "    'temperatura_corporal': np.random.choice([35, 36, 37, 44, np.nan], size=200),\n",
    "    'sexo': np.random.choice(['masculino', 'feminino'], size=200),\n",
    "    'gravidez': np.random.choice(['sim', 'não'], size=200)\n",
    "}"
   ]
  },
  {
   "cell_type": "code",
   "execution_count": 28,
   "metadata": {},
   "outputs": [],
   "source": [
    "#Criando o dataframe\n",
    "DataBase = pd.DataFrame(Data)"
   ]
  },
  {
   "cell_type": "code",
   "execution_count": 29,
   "metadata": {},
   "outputs": [
    {
     "data": {
      "text/html": [
       "<div>\n",
       "<style scoped>\n",
       "    .dataframe tbody tr th:only-of-type {\n",
       "        vertical-align: middle;\n",
       "    }\n",
       "\n",
       "    .dataframe tbody tr th {\n",
       "        vertical-align: top;\n",
       "    }\n",
       "\n",
       "    .dataframe thead th {\n",
       "        text-align: right;\n",
       "    }\n",
       "</style>\n",
       "<table border=\"1\" class=\"dataframe\">\n",
       "  <thead>\n",
       "    <tr style=\"text-align: right;\">\n",
       "      <th></th>\n",
       "      <th>id_usuario</th>\n",
       "      <th>municipio</th>\n",
       "      <th>idade</th>\n",
       "      <th>escolaridade</th>\n",
       "      <th>temperatura_corporal</th>\n",
       "      <th>sexo</th>\n",
       "      <th>gravidez</th>\n",
       "    </tr>\n",
       "  </thead>\n",
       "  <tbody>\n",
       "    <tr>\n",
       "      <th>0</th>\n",
       "      <td>98</td>\n",
       "      <td>A</td>\n",
       "      <td>20.0</td>\n",
       "      <td>superior</td>\n",
       "      <td>37.0</td>\n",
       "      <td>feminino</td>\n",
       "      <td>sim</td>\n",
       "    </tr>\n",
       "    <tr>\n",
       "      <th>1</th>\n",
       "      <td>101</td>\n",
       "      <td>B</td>\n",
       "      <td>34.0</td>\n",
       "      <td>pós-graduação</td>\n",
       "      <td>37.0</td>\n",
       "      <td>masculino</td>\n",
       "      <td>sim</td>\n",
       "    </tr>\n",
       "    <tr>\n",
       "      <th>2</th>\n",
       "      <td>73</td>\n",
       "      <td>C</td>\n",
       "      <td>28.0</td>\n",
       "      <td>superior</td>\n",
       "      <td>36.0</td>\n",
       "      <td>masculino</td>\n",
       "      <td>não</td>\n",
       "    </tr>\n",
       "    <tr>\n",
       "      <th>3</th>\n",
       "      <td>150</td>\n",
       "      <td>B</td>\n",
       "      <td>25.0</td>\n",
       "      <td>pós-graduação</td>\n",
       "      <td>NaN</td>\n",
       "      <td>feminino</td>\n",
       "      <td>não</td>\n",
       "    </tr>\n",
       "    <tr>\n",
       "      <th>4</th>\n",
       "      <td>138</td>\n",
       "      <td>B</td>\n",
       "      <td>21.0</td>\n",
       "      <td>pós-graduação</td>\n",
       "      <td>44.0</td>\n",
       "      <td>masculino</td>\n",
       "      <td>não</td>\n",
       "    </tr>\n",
       "  </tbody>\n",
       "</table>\n",
       "</div>"
      ],
      "text/plain": [
       "   id_usuario municipio  idade   escolaridade  temperatura_corporal  \\\n",
       "0          98         A   20.0       superior                  37.0   \n",
       "1         101         B   34.0  pós-graduação                  37.0   \n",
       "2          73         C   28.0       superior                  36.0   \n",
       "3         150         B   25.0  pós-graduação                   NaN   \n",
       "4         138         B   21.0  pós-graduação                  44.0   \n",
       "\n",
       "        sexo gravidez  \n",
       "0   feminino      sim  \n",
       "1  masculino      sim  \n",
       "2  masculino      não  \n",
       "3   feminino      não  \n",
       "4  masculino      não  "
      ]
     },
     "execution_count": 29,
     "metadata": {},
     "output_type": "execute_result"
    }
   ],
   "source": [
    "DataBase.head()"
   ]
  },
  {
   "cell_type": "code",
   "execution_count": 30,
   "metadata": {},
   "outputs": [
    {
     "data": {
      "text/plain": [
       "id_usuario\n",
       "False    111\n",
       "True      89\n",
       "Name: count, dtype: int64"
      ]
     },
     "execution_count": 30,
     "metadata": {},
     "output_type": "execute_result"
    }
   ],
   "source": [
    "#Analisando a presença de dados duplicados\n",
    "Duplicatas = DataBase['id_usuario'].duplicated()\n",
    "Duplicatas.value_counts()"
   ]
  },
  {
   "cell_type": "code",
   "execution_count": 34,
   "metadata": {},
   "outputs": [
    {
     "data": {
      "text/plain": [
       "id_usuario\n",
       "98     1\n",
       "101    1\n",
       "73     1\n",
       "150    1\n",
       "138    1\n",
       "      ..\n",
       "149    1\n",
       "63     1\n",
       "40     1\n",
       "153    1\n",
       "8      1\n",
       "Name: count, Length: 111, dtype: int64"
      ]
     },
     "execution_count": 34,
     "metadata": {},
     "output_type": "execute_result"
    }
   ],
   "source": [
    "#Removendo a presença de dados duplicados\n",
    "Sem_Duplicatas = DataBase['id_usuario'].drop_duplicates()\n",
    "Sem_Duplicatas.value_counts()"
   ]
  }
 ],
 "metadata": {
  "kernelspec": {
   "display_name": "Python 3",
   "language": "python",
   "name": "python3"
  },
  "language_info": {
   "codemirror_mode": {
    "name": "ipython",
    "version": 3
   },
   "file_extension": ".py",
   "mimetype": "text/x-python",
   "name": "python",
   "nbconvert_exporter": "python",
   "pygments_lexer": "ipython3",
   "version": "3.12.4"
  }
 },
 "nbformat": 4,
 "nbformat_minor": 2
}
